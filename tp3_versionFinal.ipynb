{
 "cells": [
  {
   "cell_type": "markdown",
   "metadata": {},
   "source": [
    "<h4 style=\"color:DodgerBlue;\" ><u>COMPTE RENDU TP3</u></h4>\n",
    " <h1 style=\"color:DodgerBlue;\" ><center>Intégration Numérique</center></h1>\n",
    "\n",
    "\n",
    "\n",
    "\n",
    "<h2><U>  Objectif : </U> </h2>    \n",
    " \n",
    " \n",
    ">  *    Maîtriser les quatre méthodes d'intégration.  \n",
    "   *    Faire l'intégration exacte et avoir l'erreur."
   ]
  },
  {
   "cell_type": "code",
   "execution_count": 49,
   "metadata": {},
   "outputs": [],
   "source": [
    "from pylab import * \n",
    "import numpy as np\n",
    "import matplotlib.pyplot as plt\n",
    "from ipywidgets import interact, interactive, fixed, interact_manual, widgets\n",
    "from scipy.integrate import quad"
   ]
  },
  {
   "cell_type": "code",
   "execution_count": 50,
   "metadata": {},
   "outputs": [],
   "source": [
    "class RectangleG(object):  \n",
    "    def __init__(self, a, b, n, f):\n",
    "        self.a = a\n",
    "        self.b = b\n",
    "        self.x = np.linspace(a, b, n+1)\n",
    "        self.f = f\n",
    "        self.n = n\n",
    "    def integrate(self,f):\n",
    "        x=self.x\n",
    "        y=f(x)#les yi \n",
    "        h = float(x[1] - x[0])\n",
    "        s = sum(y[0:-1])\n",
    "        return h * s\n",
    "    def Graph(self,f,resolution=1001):\n",
    "        xl = self.x\n",
    "        yl = f(xl)\n",
    "        xlist_fine=np.linspace(self.a, self.b, resolution)\n",
    "        for i in range(self.n):\n",
    "            x_rect = [xl[i], xl[i], xl[i+1], xl[i+1], xl[i]] \n",
    "            y_rect = [0   , yl[i], yl[i]  , 0     , 0   ] \n",
    "            plot(x_rect, y_rect,\"g\")\n",
    "        yflist_fine = f(xlist_fine)\n",
    "        plt.plot(xlist_fine, yflist_fine)\n",
    "        plt.plot(xl, yl,\"rd\")\n",
    "  \n",
    "        plt.ylabel('f(x)')\n",
    "        plt.title('Rectangle')"
   ]
  },
  {
   "cell_type": "code",
   "execution_count": 51,
   "metadata": {},
   "outputs": [],
   "source": [
    "class Milieu(object): \n",
    "    def __init__(self, a, b, n, f):\n",
    "        self.a = a\n",
    "        self.b = b\n",
    "        self.x = np.linspace(a, b, n+1)\n",
    "        self.f = f\n",
    "        self.n = n\n",
    "    def integrate(self,f):\n",
    "        x=self.x\n",
    "        h = float(x[1] - x[0])\n",
    "        s=0\n",
    "        for i in range(self.n):\n",
    "            s=s+f((x[i]+x[i+1])*0.5)\n",
    "        return h*s\n",
    "       \n",
    "    def Graph(self,f,resolution=1001):\n",
    "        xl = self.x\n",
    "        yl=f(xl);\n",
    "        xlist_fine=np.linspace(self.a, self.b, resolution)\n",
    "        \n",
    "        for i in range(self.n):\n",
    "            \n",
    "            m=(xl[i]+xl[i+1])/2\n",
    "            x_rect = [xl[i], xl[i], xl[i+1], xl[i+1], xl[i]]\n",
    "            y_rect = [0   , f(m), f(m)  , 0     , 0   ] \n",
    "            plot(x_rect, y_rect,\"b\")\n",
    "            yflist_fine = f(xlist_fine)\n",
    "            plt.plot(xlist_fine, yflist_fine)\n",
    "            plt.plot(m,f(m),\"y*\")\n",
    "            plt.xlabel('x')\n",
    "            plt.ylabel('f(x)')\n",
    "            plt.title('Milieu')"
   ]
  },
  {
   "cell_type": "code",
   "execution_count": 52,
   "metadata": {},
   "outputs": [],
   "source": [
    "class Trapezoidal(object):\n",
    "    def __init__(self, a, b, n, f):\n",
    "        self.a = a\n",
    "        self.b = b\n",
    "        self.x = np.linspace(a, b, n+1)\n",
    "        self.f = f\n",
    "        self.n = n\n",
    "    def integrate(self,f):\n",
    "        x=self.x\n",
    "        y=f(x)\n",
    "        h = float(x[1] - x[0])\n",
    "        s = y[0] + y[-1] + 2.0*sum(y[1:-1])\n",
    "        return h * s / 2.0\n",
    "    def Graph(self,f,resolution=1001):\n",
    "        xl = self.x\n",
    "        yl = f(xl)\n",
    "        xlist_fine=np.linspace(self.a, self.b, resolution)\n",
    "        for i in range(self.n):\n",
    "            x_rect = [xl[i], xl[i], xl[i+1], xl[i+1], xl[i]] \n",
    "            y_rect = [0   , yl[i], yl[i+1]  , 0     , 0   ] \n",
    "            plot(x_rect, y_rect,\"m\")\n",
    "        yflist_fine = f(xlist_fine)\n",
    "        plt.plot(xlist_fine, yflist_fine)\n",
    "        plt.plot(xl, yl,\"cs\")\n",
    "        plt.ylabel('f(x)')"
   ]
  },
  {
   "cell_type": "code",
   "execution_count": 53,
   "metadata": {},
   "outputs": [],
   "source": [
    "class Simpson(object):\n",
    "    def __init__(self, a, b, n, f): \n",
    "        self.a = a\n",
    "        self.b = b\n",
    "        self.x = np.linspace(a, b, n+1)\n",
    "        self.f = f\n",
    "        self.n = n \n",
    "\n",
    "    def integrate(self,f):\n",
    "        x=self.x \n",
    "        y=f(x) \n",
    "        h = float(x[1] - x[0])\n",
    "        n = len(x) - 1\n",
    "        if n % 2 == 1:\n",
    "            n -= 1\n",
    "        s = y[0] + y[n] + 4.0 * sum(y[1:-1:2]) + 2.0 * sum(y[2:-2:2])\n",
    "        return h * s / 3.0\n",
    "    def Graph(self,f,resolution=1001):\n",
    "        xl = self.x \n",
    "        yl = f(x) \n",
    "        xlist_fine=np.linspace(self.a, self.b, resolution)\n",
    "        \n",
    "        for i in range(self.n):\n",
    "            xx=np.linspace(x[i], x[i+1], resolution)\n",
    "            m=(xl[i]+xl[i+1])/2\n",
    "            a=xl[i]\n",
    "            b=xl[i+1]\n",
    "            l0 = (xx-m)/(a-m)*(xx-b)/(a-b)\n",
    "            l1 = (xx-a)/(m-a)*(xx-b)/(m-b)\n",
    "            l2 = (xx-a)/(b-a)*(xx-m)/(b-m)\n",
    "            P = f(a)*l0 + f(m)*l1 + f(b)*l2\n",
    "            plot(xx,P,'m')\n",
    "        yflist_fine = f(xlist_fine)\n",
    "        plt.plot(xlist_fine, yflist_fine,'g')\n",
    "        plt.plot(xl, yl,'wp')\n",
    "        \n",
    "        plt.ylabel('f(x)')\n",
    "        plt.title('Simpson')"
   ]
  },
  {
   "cell_type": "code",
   "execution_count": 54,
   "metadata": {},
   "outputs": [],
   "source": [
    "def simul(n,f):\n",
    "    a = 0.0\n",
    "    b = 0.5*pi\n",
    "    n =4 \n",
    "    x = np.linspace(a, b, n+1)\n",
    "    T = Trapezoidal(a, b, n, f)\n",
    "    S = Simpson(a, b, n, f)\n",
    "    R = RectangleG(a, b, n, f)\n",
    "    M=Milieu(a,b,n,f)\n",
    "    I,r =quad(f, a, b)\n",
    "    fig = plt.figure()\n",
    "    plt.title('Intégrale Exacte')\n",
    "    ax = fig.add_subplot(221) \n",
    "    grid()\n",
    "    T.Graph(f) \n",
    "    \n",
    "    ax = fig.add_subplot(222)\n",
    "    grid()\n",
    "    S.Graph(f)\n",
    "    \n",
    "    ax = fig.add_subplot(223)\n",
    "    grid()\n",
    "    R.Graph(f)\n",
    "    \n",
    "    ax = fig.add_subplot(224)\n",
    "    M.Graph(f)\n",
    "    grid()\n",
    "    \n",
    "    print(\"Integrale exacte de cette fonction est  %12.4f\" %  I)\n",
    "    \n",
    "    plt.show()\n",
    "    print (\"Erreur Simpson =%12.4f\" %(I-S.integrate(f)),'*******' , \"Erreur Rectangle = %12.4f\" % (I-R.integrate(f)))\n",
    "    print (\"Erreur Trapèze =%12.4f\" %(I-T.integrate(f)),\"*******\",    \"Erreur Milieu   = %12.4f\" % (I-M.integrate(f)))\n",
    "    "
   ]
  },
  {
   "cell_type": "code",
   "execution_count": 55,
   "metadata": {},
   "outputs": [
    {
     "data": {
      "application/vnd.jupyter.widget-view+json": {
       "model_id": "97b12feb428447c09e52166cbdc386c8",
       "version_major": 2,
       "version_minor": 0
      },
      "text/plain": [
       "interactive(children=(IntSlider(value=10, description='n', min=1, step=3), Dropdown(description='f', options={…"
      ]
     },
     "metadata": {},
     "output_type": "display_data"
    }
   ],
   "source": [
    "interact(simul,n=widgets.IntSlider(min=1, max=100, step=3, value=10),f={'1/(1+x**2)':lambda x:1/(1+x**2),'sin(x)':lambda x: sin(x),'cos(x)':lambda x:cos(x),'x**2-x+5':lambda x:x**2-x+5});"
   ]
  },
  {
   "cell_type": "markdown",
   "metadata": {},
   "source": [
    "# Conclusion\n",
    "\n",
    " ##Le tableau suivant résume les performances théoriques de chaque méthode d'intégration : \n",
    "<img src=\"integ.JPG\" alt=\"tableau\" />"
   ]
  },
  {
   "cell_type": "code",
   "execution_count": null,
   "metadata": {},
   "outputs": [],
   "source": []
  },
  {
   "cell_type": "code",
   "execution_count": null,
   "metadata": {},
   "outputs": [],
   "source": []
  }
 ],
 "metadata": {
  "kernelspec": {
   "display_name": "Python 3",
   "language": "python",
   "name": "python3"
  },
  "language_info": {
   "codemirror_mode": {
    "name": "ipython",
    "version": 3
   },
   "file_extension": ".py",
   "mimetype": "text/x-python",
   "name": "python",
   "nbconvert_exporter": "python",
   "pygments_lexer": "ipython3",
   "version": "3.8.3"
  }
 },
 "nbformat": 4,
 "nbformat_minor": 4
}
